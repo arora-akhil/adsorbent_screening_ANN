{
 "cells": [
  {
   "cell_type": "code",
   "execution_count": 1,
   "metadata": {},
   "outputs": [
    {
     "data": {
      "text/plain": [
       "Text(0, 0.5, 'Outlet mole fraction')"
      ]
     },
     "execution_count": 1,
     "metadata": {},
     "output_type": "execute_result"
    },
    {
     "data": {
      "image/png": "[encoded data removed]",
      "text/plain": [
       "<Figure size 432x288 with 1 Axes>"
      ]
     },
     "metadata": {
      "needs_background": "light"
     },
     "output_type": "display_data"
    }
   ],
   "source": [
    "# Sample python script to use trained ANN model \"Carbon_capture_ANN_model.h5\" for predicting CO2/N2 breakthrough\n",
    "\n",
    "# Importing required python packages \n",
    "# Note that the keras package also needs tensorflow package installation as it is utilized in backend \n",
    "import numpy as np\n",
    "from keras.models import load_model\n",
    "import matplotlib.pyplot as plt\n",
    "\n",
    "''' \n",
    "ANN model inputs: \n",
    " (1) P_feed (Pa), (2) vf_int (m/s), (3) L (m), (4) bo1_CO2 (1/Pa), (5) bo_N2 (1/Pa), (6) m1_CO2 (mol/kg), \n",
    " (7) m_N2 (mol/kg), (8) delU1_CO2 (J/mol), (9) delU_N2 (J/mol), (10) epsilon (11) CO2 feed composition, \n",
    " (12) bo2_CO2 (1/Pa), (13) m2_CO2 (mol/kg), (14) delU2_CO2 (J/mol) (15) delH_CO2 (J/mol), (16) delH_N2 (J/mol), \n",
    " (17) adsorbent particle density (kg ads / m^3 ads)\n",
    "'''\n",
    "\n",
    "# Minimum and maximum input bounds - trained input space is between these bounds \n",
    "x_min = np.array([1e5,  0.2, 0.3, 1e-10, 1e-10, 1, 0.9, -40000, -25000, 0.3, 0.15, 1e-10,  1, -40000, -45000, -30000, 750])\n",
    "x_max = np.array([10e5, 0.4, 0.5, 1e-10, 1e-10, 7, 1.5,  -15000, -10000, 0.5, 0.25, 1e-10,  7, -15000, -10000, -5000, 2000])\n",
    "\n",
    "# Importing the trained ANN model for post-combustion carbon capture\n",
    "model = load_model('Carbon_capture_ANN_model.h5') \n",
    "\n",
    "# Scaled minimum and maximum input bounds - inputs normalized between -1 and 1\n",
    "x_scaled_lb = np.array([-1, -1, -1, -1, -1, -1, -1, -1, -1, -1, -1, -1, -1, -1, -1, -1, -1])\n",
    "x_scaled_ub = np.array([1, 1, 1, 1, 1, 1, 1, 1, 1, 1, 1, 1, 1, 1, 1, 1, 1])\n",
    "\n",
    "# Input sampling point - nominal conditions\n",
    "x = np.array([5.5e5, 0.3, 0.4, 1e-10, 1e-10, 4, 1.2, -27500, -17500, 0.4, 0.2, 1e-10,  4, -27500, -27500, -17500, 1375])\n",
    "\n",
    "# Scaling input between -1 and 1\n",
    "x_scaled = x_scaled_lb + ((x - x_min) * (x_scaled_ub - x_scaled_lb)) / (x_max - x_min + 1e-10)\n",
    "x_scaled = x_scaled.reshape(1,17)\n",
    "\n",
    "# Predicting scaled breakthrough events time in seconds\n",
    "t_break_event_scaled = model.predict(x_scaled)\n",
    "t_break_event = t_break_event_scaled * 60\n",
    "\n",
    "# Plotting concentration profiles\n",
    "y_CO2_breakthrough_points = np.linspace(0,x[10],t_break_event.shape[1]).reshape(1,8);\n",
    "plt.scatter(t_break_event, y_CO2_breakthrough_points, label='CO$_2$')\n",
    "plt.scatter(t_break_event, 1 - y_CO2_breakthrough_points, label='N$_2$')\n",
    "plt.legend()\n",
    "plt.xlim([0, 1000])\n",
    "plt.ylim([0, 1])\n",
    "plt.xlabel('Time (s)')\n",
    "plt.ylabel('Outlet mole fraction')"
   ]
  }
 ],
 "metadata": {
  "kernelspec": {
   "display_name": "Python 3",
   "language": "python",
   "name": "python3"
  },
  "language_info": {
   "codemirror_mode": {
    "name": "ipython",
    "version": 3
   },
   "file_extension": ".py",
   "mimetype": "text/x-python",
   "name": "python",
   "nbconvert_exporter": "python",
   "pygments_lexer": "ipython3",
   "version": "3.7.6"
  }
 },
 "nbformat": 4,
 "nbformat_minor": 4
}
